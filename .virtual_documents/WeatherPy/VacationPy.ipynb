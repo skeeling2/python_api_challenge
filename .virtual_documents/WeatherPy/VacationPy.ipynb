


# Dependencies and Setup
import hvplot.pandas
import pandas as pd
import requests

# Import API key
from api_keys import geoapify_key


# Load the CSV file created in Part 1 into a Pandas DataFrame
city_data_df = pd.read_csv("output_data/cities.csv")

# Display sample data
city_data_df.head()





%%capture --no-display

# Configure the map plot
map_plot_1 = city_data_df.hvplot.points("Lng", "Lat", 
                                        geo=True, tiles="EsriNatGeo", size="Humidity", 
                                        scale=0.5, color = "City",
                                       frame_width = 700, frame_height = 500)

# Display the map
map_plot_1





# Narrow down cities that fit criteria and drop any results with null values
ideal_df = city_data_df[city_data_df["Max Temp"]>25]

# Drop any rows with null values
ideal_df.dropna(how="any") 

# Display sample data
ideal_df





# Use the Pandas copy function to create DataFrame called hotel_df to store the city, country, coordinates, and humidity
hotel_df = ideal_df[["City", "Country", "Lat", "Lng", "Humidity"]].copy()

# Add an empty column, "Hotel Name," to the DataFrame so you can store the hotel found using the Geoapify API
hotel_df["Hotel Name"] = ""

# Display sample data
hotel_df





# Set parameters to search for a hotel
radius = 10000
limit = 1
categories = "accommodation.hotel"
params = {
    "categories": categories, "limit":  limit, 
     "apiKey": geoapify_key, "radius": radius    
}

# Print a message to follow up the hotel search
print("Starting hotel search")

# Iterate through the hotel_df DataFrame
for index, row in hotel_df.iterrows():
    # get latitude, longitude from the DataFrame
    latitude = hotel_df.loc[index, "Lat"]
    longitude = hotel_df.loc[index, "Lng"]
    
    # Add filter and bias parameters with the current city's latitude and longitude to the params dictionary
    params["filter"] = f"circle:{longitude},{latitude},{radius}"
    params["bias"] = f"proximity:{longitude},{latitude}"


    # # Set base URL
    base_url = "https://api.geoapify.com/v2/places?"


    # # Make and API request using the params dictionaty
    name_address = requests.get(base_url, params=params).json()
    
   

    
    #Grab the first hotel from the results and store the name in the hotel_df DataFrame
    try:
        hotel_df.loc[index, "Hotel Name"] = name_address["features"][0]["properties"]["name"]
    except (KeyError, IndexError):
        # If no hotel is found, set the hotel name as "No hotel found".
        hotel_df.loc[index, "Hotel Name"] = "No hotel found"
        
    # Log the search results
    print(f"{hotel_df.loc[index, 'City']} - nearest hotel: {hotel_df.loc[index, 'Hotel Name']}")

# Display sample data
hotel_df





%%capture --no-display

# Configure the map plot
map_plot_2 = hotel_df.hvplot.points("Lng", "Lat", 
                                        geo=True, tiles="EsriNatGeo", 
                                        color = "City", hover_cols=["Hotel Name", "Country"],
                                       frame_width = 700, frame_height = 500)

# Display the map
map_plot_2



